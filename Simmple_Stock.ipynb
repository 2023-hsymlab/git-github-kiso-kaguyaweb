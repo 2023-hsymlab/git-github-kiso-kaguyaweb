{
  "cells": [
    {
      "cell_type": "markdown",
      "metadata": {
        "colab_type": "text",
        "id": "view-in-github"
      },
      "source": [
        "<a href=\"https://colab.research.google.com/github/hsym-uec/myWeb_github/blob/main/Simmple_Stock.ipynb\" target=\"_parent\"><img src=\"https://colab.research.google.com/assets/colab-badge.svg\" alt=\"Open In Colab\"/></a>"
      ]
    },
    {
      "cell_type": "code",
      "execution_count": 2,
      "metadata": {
        "id": "iu7dBOESS_HT"
      },
      "outputs": [],
      "source": [
        "# SoftBank Stock data from Stooq.com \n",
        "# reference https://seanmemo.com/234/\n",
        "\n",
        "from pandas_datareader import data\n",
        "start = '2023-04-01'\n",
        "end = '2023-04-18'\n",
        "df = data.DataReader('AAPL.US', 'stooq', start, end)"
      ]
    },
    {
      "cell_type": "code",
      "execution_count": 3,
      "metadata": {
        "colab": {
          "base_uri": "https://localhost:8080/",
          "height": 269
        },
        "id": "X1ZMmhe8VDaN",
        "outputId": "a1e65cdb-d5aa-4fbc-fc4d-d1b9db6aaafa"
      },
      "outputs": [
        {
          "data": {
            "text/html": [
              "<div>\n",
              "<style scoped>\n",
              "    .dataframe tbody tr th:only-of-type {\n",
              "        vertical-align: middle;\n",
              "    }\n",
              "\n",
              "    .dataframe tbody tr th {\n",
              "        vertical-align: top;\n",
              "    }\n",
              "\n",
              "    .dataframe thead th {\n",
              "        text-align: right;\n",
              "    }\n",
              "</style>\n",
              "<table border=\"1\" class=\"dataframe\">\n",
              "  <thead>\n",
              "    <tr style=\"text-align: right;\">\n",
              "      <th></th>\n",
              "      <th>Open</th>\n",
              "      <th>High</th>\n",
              "      <th>Low</th>\n",
              "      <th>Close</th>\n",
              "      <th>Volume</th>\n",
              "    </tr>\n",
              "    <tr>\n",
              "      <th>Date</th>\n",
              "      <th></th>\n",
              "      <th></th>\n",
              "      <th></th>\n",
              "      <th></th>\n",
              "      <th></th>\n",
              "    </tr>\n",
              "  </thead>\n",
              "  <tbody>\n",
              "    <tr>\n",
              "      <th>2023-04-18</th>\n",
              "      <td>166.100</td>\n",
              "      <td>167.4100</td>\n",
              "      <td>165.65</td>\n",
              "      <td>166.47</td>\n",
              "      <td>49923008</td>\n",
              "    </tr>\n",
              "    <tr>\n",
              "      <th>2023-04-17</th>\n",
              "      <td>165.090</td>\n",
              "      <td>165.3900</td>\n",
              "      <td>164.03</td>\n",
              "      <td>165.23</td>\n",
              "      <td>41516217</td>\n",
              "    </tr>\n",
              "    <tr>\n",
              "      <th>2023-04-14</th>\n",
              "      <td>164.590</td>\n",
              "      <td>166.3200</td>\n",
              "      <td>163.82</td>\n",
              "      <td>165.21</td>\n",
              "      <td>49386480</td>\n",
              "    </tr>\n",
              "    <tr>\n",
              "      <th>2023-04-13</th>\n",
              "      <td>161.630</td>\n",
              "      <td>165.8000</td>\n",
              "      <td>161.42</td>\n",
              "      <td>165.56</td>\n",
              "      <td>68445649</td>\n",
              "    </tr>\n",
              "    <tr>\n",
              "      <th>2023-04-12</th>\n",
              "      <td>161.220</td>\n",
              "      <td>162.0600</td>\n",
              "      <td>159.78</td>\n",
              "      <td>160.10</td>\n",
              "      <td>50133062</td>\n",
              "    </tr>\n",
              "    <tr>\n",
              "      <th>2023-04-11</th>\n",
              "      <td>162.350</td>\n",
              "      <td>162.3600</td>\n",
              "      <td>160.51</td>\n",
              "      <td>160.80</td>\n",
              "      <td>47644217</td>\n",
              "    </tr>\n",
              "    <tr>\n",
              "      <th>2023-04-10</th>\n",
              "      <td>161.420</td>\n",
              "      <td>162.0300</td>\n",
              "      <td>160.08</td>\n",
              "      <td>162.03</td>\n",
              "      <td>47716882</td>\n",
              "    </tr>\n",
              "    <tr>\n",
              "      <th>2023-04-06</th>\n",
              "      <td>162.430</td>\n",
              "      <td>164.9584</td>\n",
              "      <td>162.00</td>\n",
              "      <td>164.66</td>\n",
              "      <td>45390123</td>\n",
              "    </tr>\n",
              "    <tr>\n",
              "      <th>2023-04-05</th>\n",
              "      <td>164.740</td>\n",
              "      <td>165.0500</td>\n",
              "      <td>161.80</td>\n",
              "      <td>163.76</td>\n",
              "      <td>51511744</td>\n",
              "    </tr>\n",
              "    <tr>\n",
              "      <th>2023-04-04</th>\n",
              "      <td>166.595</td>\n",
              "      <td>166.8400</td>\n",
              "      <td>165.11</td>\n",
              "      <td>165.63</td>\n",
              "      <td>46278295</td>\n",
              "    </tr>\n",
              "    <tr>\n",
              "      <th>2023-04-03</th>\n",
              "      <td>164.270</td>\n",
              "      <td>166.2900</td>\n",
              "      <td>164.22</td>\n",
              "      <td>166.17</td>\n",
              "      <td>56976187</td>\n",
              "    </tr>\n",
              "  </tbody>\n",
              "</table>\n",
              "</div>"
            ],
            "text/plain": [
              "               Open      High     Low   Close    Volume\n",
              "Date                                                   \n",
              "2023-04-18  166.100  167.4100  165.65  166.47  49923008\n",
              "2023-04-17  165.090  165.3900  164.03  165.23  41516217\n",
              "2023-04-14  164.590  166.3200  163.82  165.21  49386480\n",
              "2023-04-13  161.630  165.8000  161.42  165.56  68445649\n",
              "2023-04-12  161.220  162.0600  159.78  160.10  50133062\n",
              "2023-04-11  162.350  162.3600  160.51  160.80  47644217\n",
              "2023-04-10  161.420  162.0300  160.08  162.03  47716882\n",
              "2023-04-06  162.430  164.9584  162.00  164.66  45390123\n",
              "2023-04-05  164.740  165.0500  161.80  163.76  51511744\n",
              "2023-04-04  166.595  166.8400  165.11  165.63  46278295\n",
              "2023-04-03  164.270  166.2900  164.22  166.17  56976187"
            ]
          },
          "execution_count": 3,
          "metadata": {},
          "output_type": "execute_result"
        }
      ],
      "source": [
        "df"
      ]
    },
    {
      "cell_type": "code",
      "execution_count": 4,
      "metadata": {},
      "outputs": [
        {
          "data": {
            "text/plain": [
              "<Figure size 432x288 with 0 Axes>"
            ]
          },
          "metadata": {},
          "output_type": "display_data"
        },
        {
          "data": {
            "image/png": "[encoded data removed]",
            "text/plain": [
              "<Figure size 432x288 with 1 Axes>"
            ]
          },
          "metadata": {
            "needs_background": "light"
          },
          "output_type": "display_data"
        }
      ],
      "source": [
        "import matplotlib.pyplot as plt\n",
        "plt.figure()\n",
        "df[['Open', 'High', 'Low', 'Close']].plot()\n",
        "plt.show()"
      ]
    }
  ],
  "metadata": {
    "colab": {
      "authorship_tag": "ABX9TyPjQvpzdTrQo21gWnU3EF3c",
      "include_colab_link": true,
      "provenance": []
    },
    "kernelspec": {
      "display_name": "Python 3",
      "name": "python3"
    },
    "language_info": {
      "codemirror_mode": {
        "name": "ipython",
        "version": 3
      },
      "file_extension": ".py",
      "mimetype": "text/x-python",
      "name": "python",
      "nbconvert_exporter": "python",
      "pygments_lexer": "ipython3",
      "version": "3.8.8"
    }
  },
  "nbformat": 4,
  "nbformat_minor": 0
}
